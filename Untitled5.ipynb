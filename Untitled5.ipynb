{
  "nbformat": 4,
  "nbformat_minor": 0,
  "metadata": {
    "colab": {
      "provenance": []
    },
    "kernelspec": {
      "name": "python3",
      "display_name": "Python 3"
    },
    "language_info": {
      "name": "python"
    }
  },
  "cells": [
    {
      "cell_type": "markdown",
      "source": [
        "Reddit Sentiment Analysis"
      ],
      "metadata": {
        "id": "d1ro8HBg4Mw-"
      }
    },
    {
      "cell_type": "markdown",
      "source": [
        "This code performs sentiment analysis on comments from a Reddit movie review post using various libraries.\n",
        "Data Collection: The asyncpraw library fetches comments from the post.\n",
        "\n",
        "1.   Text Preprocessing: Comments are cleaned by removing URLs, punctuation, and stopwords, and they are lemmatized to standardize words.\n",
        "2.   Sentiment Analysis: VADER analyzes sentiment, scoring comments as positive, negative, or neutral.\n",
        "3.   Visualization: A bar plot shows the distribution of sentiment classes, highlighting the overall sentiment trends in the comments.\n",
        "\n",
        "The output shows cleaned comments, their sentiment scores, and a sentiment distribution plot.\n",
        "\n",
        "Link to the reddit page - https://www.reddit.com/r/movies/comments/1awh3v2/dune_part_two_review_thread/"
      ],
      "metadata": {
        "id": "csvNo1Bl4uGr"
      }
    },
    {
      "cell_type": "code",
      "source": [
        "pip install asyncpraw pandas nltk vaderSentiment matplotlib seaborn\n"
      ],
      "metadata": {
        "colab": {
          "base_uri": "https://localhost:8080/"
        },
        "id": "gCYbNDTPgT3G",
        "outputId": "70b44234-03d9-407a-d908-fdf2a78d62f7"
      },
      "execution_count": null,
      "outputs": [
        {
          "output_type": "stream",
          "name": "stdout",
          "text": [
            "Collecting asyncpraw\n",
            "  Downloading asyncpraw-7.8.0-py3-none-any.whl.metadata (9.0 kB)\n",
            "Requirement already satisfied: pandas in /usr/local/lib/python3.10/dist-packages (2.2.2)\n",
            "Requirement already satisfied: nltk in /usr/local/lib/python3.10/dist-packages (3.8.1)\n",
            "Collecting vaderSentiment\n",
            "  Downloading vaderSentiment-3.3.2-py2.py3-none-any.whl.metadata (572 bytes)\n",
            "Requirement already satisfied: matplotlib in /usr/local/lib/python3.10/dist-packages (3.8.0)\n",
            "Requirement already satisfied: seaborn in /usr/local/lib/python3.10/dist-packages (0.13.2)\n",
            "Collecting aiofiles (from asyncpraw)\n",
            "  Downloading aiofiles-24.1.0-py3-none-any.whl.metadata (10 kB)\n",
            "Requirement already satisfied: aiohttp<4 in /usr/local/lib/python3.10/dist-packages (from asyncpraw) (3.10.10)\n",
            "Collecting aiosqlite<=0.17.0 (from asyncpraw)\n",
            "  Downloading aiosqlite-0.17.0-py3-none-any.whl.metadata (4.1 kB)\n",
            "Collecting asyncprawcore<3,>=2.1 (from asyncpraw)\n",
            "  Downloading asyncprawcore-2.4.0-py3-none-any.whl.metadata (5.5 kB)\n",
            "Collecting update_checker>=0.18 (from asyncpraw)\n",
            "  Downloading update_checker-0.18.0-py3-none-any.whl.metadata (2.3 kB)\n",
            "Requirement already satisfied: numpy>=1.22.4 in /usr/local/lib/python3.10/dist-packages (from pandas) (1.26.4)\n",
            "Requirement already satisfied: python-dateutil>=2.8.2 in /usr/local/lib/python3.10/dist-packages (from pandas) (2.8.2)\n",
            "Requirement already satisfied: pytz>=2020.1 in /usr/local/lib/python3.10/dist-packages (from pandas) (2024.2)\n",
            "Requirement already satisfied: tzdata>=2022.7 in /usr/local/lib/python3.10/dist-packages (from pandas) (2024.2)\n",
            "Requirement already satisfied: click in /usr/local/lib/python3.10/dist-packages (from nltk) (8.1.7)\n",
            "Requirement already satisfied: joblib in /usr/local/lib/python3.10/dist-packages (from nltk) (1.4.2)\n",
            "Requirement already satisfied: regex>=2021.8.3 in /usr/local/lib/python3.10/dist-packages (from nltk) (2024.9.11)\n",
            "Requirement already satisfied: tqdm in /usr/local/lib/python3.10/dist-packages (from nltk) (4.66.6)\n",
            "Requirement already satisfied: requests in /usr/local/lib/python3.10/dist-packages (from vaderSentiment) (2.32.3)\n",
            "Requirement already satisfied: contourpy>=1.0.1 in /usr/local/lib/python3.10/dist-packages (from matplotlib) (1.3.0)\n",
            "Requirement already satisfied: cycler>=0.10 in /usr/local/lib/python3.10/dist-packages (from matplotlib) (0.12.1)\n",
            "Requirement already satisfied: fonttools>=4.22.0 in /usr/local/lib/python3.10/dist-packages (from matplotlib) (4.54.1)\n",
            "Requirement already satisfied: kiwisolver>=1.0.1 in /usr/local/lib/python3.10/dist-packages (from matplotlib) (1.4.7)\n",
            "Requirement already satisfied: packaging>=20.0 in /usr/local/lib/python3.10/dist-packages (from matplotlib) (24.1)\n",
            "Requirement already satisfied: pillow>=6.2.0 in /usr/local/lib/python3.10/dist-packages (from matplotlib) (10.4.0)\n",
            "Requirement already satisfied: pyparsing>=2.3.1 in /usr/local/lib/python3.10/dist-packages (from matplotlib) (3.2.0)\n",
            "Requirement already satisfied: aiohappyeyeballs>=2.3.0 in /usr/local/lib/python3.10/dist-packages (from aiohttp<4->asyncpraw) (2.4.3)\n",
            "Requirement already satisfied: aiosignal>=1.1.2 in /usr/local/lib/python3.10/dist-packages (from aiohttp<4->asyncpraw) (1.3.1)\n",
            "Requirement already satisfied: attrs>=17.3.0 in /usr/local/lib/python3.10/dist-packages (from aiohttp<4->asyncpraw) (24.2.0)\n",
            "Requirement already satisfied: frozenlist>=1.1.1 in /usr/local/lib/python3.10/dist-packages (from aiohttp<4->asyncpraw) (1.5.0)\n",
            "Requirement already satisfied: multidict<7.0,>=4.5 in /usr/local/lib/python3.10/dist-packages (from aiohttp<4->asyncpraw) (6.1.0)\n",
            "Requirement already satisfied: yarl<2.0,>=1.12.0 in /usr/local/lib/python3.10/dist-packages (from aiohttp<4->asyncpraw) (1.17.0)\n",
            "Requirement already satisfied: async-timeout<5.0,>=4.0 in /usr/local/lib/python3.10/dist-packages (from aiohttp<4->asyncpraw) (4.0.3)\n",
            "Requirement already satisfied: typing_extensions>=3.7.2 in /usr/local/lib/python3.10/dist-packages (from aiosqlite<=0.17.0->asyncpraw) (4.12.2)\n",
            "Requirement already satisfied: six>=1.5 in /usr/local/lib/python3.10/dist-packages (from python-dateutil>=2.8.2->pandas) (1.16.0)\n",
            "Requirement already satisfied: charset-normalizer<4,>=2 in /usr/local/lib/python3.10/dist-packages (from requests->vaderSentiment) (3.4.0)\n",
            "Requirement already satisfied: idna<4,>=2.5 in /usr/local/lib/python3.10/dist-packages (from requests->vaderSentiment) (3.10)\n",
            "Requirement already satisfied: urllib3<3,>=1.21.1 in /usr/local/lib/python3.10/dist-packages (from requests->vaderSentiment) (2.2.3)\n",
            "Requirement already satisfied: certifi>=2017.4.17 in /usr/local/lib/python3.10/dist-packages (from requests->vaderSentiment) (2024.8.30)\n",
            "Requirement already satisfied: propcache>=0.2.0 in /usr/local/lib/python3.10/dist-packages (from yarl<2.0,>=1.12.0->aiohttp<4->asyncpraw) (0.2.0)\n",
            "Downloading asyncpraw-7.8.0-py3-none-any.whl (196 kB)\n",
            "\u001b[2K   \u001b[90m━━━━━━━━━━━━━━━━━━━━━━━━━━━━━━━━━━━━━━━━\u001b[0m \u001b[32m196.4/196.4 kB\u001b[0m \u001b[31m5.2 MB/s\u001b[0m eta \u001b[36m0:00:00\u001b[0m\n",
            "\u001b[?25hDownloading vaderSentiment-3.3.2-py2.py3-none-any.whl (125 kB)\n",
            "\u001b[2K   \u001b[90m━━━━━━━━━━━━━━━━━━━━━━━━━━━━━━━━━━━━━━━━\u001b[0m \u001b[32m126.0/126.0 kB\u001b[0m \u001b[31m6.8 MB/s\u001b[0m eta \u001b[36m0:00:00\u001b[0m\n",
            "\u001b[?25hDownloading aiosqlite-0.17.0-py3-none-any.whl (15 kB)\n",
            "Downloading asyncprawcore-2.4.0-py3-none-any.whl (19 kB)\n",
            "Downloading update_checker-0.18.0-py3-none-any.whl (7.0 kB)\n",
            "Downloading aiofiles-24.1.0-py3-none-any.whl (15 kB)\n",
            "Installing collected packages: aiosqlite, aiofiles, vaderSentiment, update_checker, asyncprawcore, asyncpraw\n",
            "Successfully installed aiofiles-24.1.0 aiosqlite-0.17.0 asyncpraw-7.8.0 asyncprawcore-2.4.0 update_checker-0.18.0 vaderSentiment-3.3.2\n"
          ]
        }
      ]
    },
    {
      "cell_type": "code",
      "source": [
        "import asyncpraw\n",
        "import pandas as pd\n",
        "import asyncio\n",
        "import nest_asyncio\n",
        "\n",
        "# Reddit API credentials\n",
        "client_id = 'uEltyEOvZFRsLkqvt1mFOg'\n",
        "client_secret = 'Oqqz1poBIuJwuff0-u3D67djqBW1tQ'\n",
        "user_agent = 'MovieReviewSentimentApp by /u/Crafty_Strawberry562 '\n",
        "\n",
        "async def fetch_comments():\n",
        "    reddit = asyncpraw.Reddit(\n",
        "        client_id=client_id,\n",
        "        client_secret=client_secret,\n",
        "        user_agent=user_agent\n",
        "    )\n",
        "\n",
        "    # Fetch the Reddit post\n",
        "    submission = await reddit.submission(url='https://www.reddit.com/r/movies/comments/1awh3v2/dune_part_two_review_thread/')\n",
        "\n",
        "    #submission = await reddit.submission(url='https://www.reddit.com/r/SonyHeadphones/comments/x7mx2n/wf1000xm4_severe_battery_issues/')\n",
        "\n",
        "    await submission.comments.replace_more(limit=None)\n",
        "\n",
        "\n",
        "    comments = [comment.body for comment in submission.comments.list()]\n",
        "\n",
        "    df = pd.DataFrame(comments, columns=['comment'])\n",
        "\n",
        "    await reddit.close()\n",
        "\n",
        "    return df\n",
        "\n",
        "nest_asyncio.apply()\n",
        "\n",
        "if __name__ == \"__main__\":\n",
        "    df = asyncio.run(fetch_comments())\n",
        "    print(df.head())"
      ],
      "metadata": {
        "colab": {
          "base_uri": "https://localhost:8080/"
        },
        "id": "7KPKcQbDgT7T",
        "outputId": "498b1e87-bb90-436c-fba2-c5c2f5a555ba"
      },
      "execution_count": null,
      "outputs": [
        {
          "output_type": "stream",
          "name": "stdout",
          "text": [
            "                                             comment\n",
            "0  Just saw it, that movie fucking rips. \\n\\nMovi...\n",
            "1  Disney’s Star Wars was a false prophet; Dune i...\n",
            "2  Coliseum scene was like one big sci-fi wet dre...\n",
            "3  Just got home from my viewing in IMAX and this...\n",
            "4  Fan screen goer....This is thumbs down the bes...\n"
          ]
        }
      ]
    },
    {
      "cell_type": "code",
      "source": [
        "import re\n",
        "from nltk.corpus import stopwords\n",
        "from nltk.tokenize import word_tokenize\n",
        "from nltk.stem import WordNetLemmatizer\n",
        "import nltk\n",
        "\n",
        "nltk.download('punkt')\n",
        "nltk.download('stopwords')\n",
        "nltk.download('wordnet')\n",
        "\n",
        "def clean_text(text):\n",
        "    text = re.sub(r'http\\S+', '', text)  # remove URLs\n",
        "    text = re.sub(r'\\d+', '', text)  # remove numbers\n",
        "    text = re.sub(r'[^\\w\\s]', '', text)  # remove punctuation\n",
        "    text = text.lower()\n",
        "    return text\n",
        "\n",
        "df['cleaned_comment'] = df['comment'].apply(clean_text)\n",
        "\n",
        "stop_words = set(stopwords.words('english'))\n",
        "df['tokens'] = df['cleaned_comment'].apply(lambda x: [word for word in word_tokenize(x) if word not in stop_words])\n",
        "\n",
        "lemmatizer = WordNetLemmatizer()\n",
        "df['lemmatized'] = df['tokens'].apply(lambda x: [lemmatizer.lemmatize(word) for word in x])\n",
        "\n",
        "print(df[['comment', 'cleaned_comment', 'lemmatized']].head())\n"
      ],
      "metadata": {
        "colab": {
          "base_uri": "https://localhost:8080/"
        },
        "id": "rZSEL6PDgT9z",
        "outputId": "d83b3b26-03de-4998-b160-b57bcf10f238"
      },
      "execution_count": null,
      "outputs": [
        {
          "output_type": "stream",
          "name": "stderr",
          "text": [
            "[nltk_data] Downloading package punkt to /root/nltk_data...\n",
            "[nltk_data]   Unzipping tokenizers/punkt.zip.\n",
            "[nltk_data] Downloading package stopwords to /root/nltk_data...\n",
            "[nltk_data]   Unzipping corpora/stopwords.zip.\n",
            "[nltk_data] Downloading package wordnet to /root/nltk_data...\n"
          ]
        },
        {
          "output_type": "stream",
          "name": "stdout",
          "text": [
            "                                             comment  \\\n",
            "0  Just saw it, that movie fucking rips. \\n\\nMovi...   \n",
            "1  Disney’s Star Wars was a false prophet; Dune i...   \n",
            "2  Coliseum scene was like one big sci-fi wet dre...   \n",
            "3  Just got home from my viewing in IMAX and this...   \n",
            "4  Fan screen goer....This is thumbs down the bes...   \n",
            "\n",
            "                                     cleaned_comment  \\\n",
            "0  just saw it that movie fucking rips \\n\\nmovies...   \n",
            "1  disneys star wars was a false prophet dune is ...   \n",
            "2  coliseum scene was like one big scifi wet drea...   \n",
            "3  just got home from my viewing in imax and this...   \n",
            "4  fan screen goerthis is thumbs down the best sc...   \n",
            "\n",
            "                                          lemmatized  \n",
            "0  [saw, movie, fucking, rip, movie, fucking, awe...  \n",
            "1  [disney, star, war, false, prophet, dune, true...  \n",
            "2  [coliseum, scene, like, one, big, scifi, wet, ...  \n",
            "3  [got, home, viewing, imax, absolutely, one, be...  \n",
            "4  [fan, screen, goerthis, thumb, best, scififant...  \n"
          ]
        }
      ]
    },
    {
      "cell_type": "code",
      "source": [
        "from vaderSentiment.vaderSentiment import SentimentIntensityAnalyzer\n",
        "\n",
        "# Initialize VADER sentiment analyzer\n",
        "sia = SentimentIntensityAnalyzer()\n",
        "\n",
        "def get_sentiment(text):\n",
        "    return sia.polarity_scores(text)\n",
        "\n",
        "df['sentiment'] = df['cleaned_comment'].apply(get_sentiment)\n",
        "\n",
        "df['compound'] = df['sentiment'].apply(lambda x: x['compound'])\n",
        "df['sentiment_class'] = df['compound'].apply(lambda x: 'Positive' if x > 0 else ('Negative' if x < 0 else 'Neutral'))\n",
        "\n",
        "# Print results\n",
        "print(df[['cleaned_comment', 'compound', 'sentiment_class']].head())\n"
      ],
      "metadata": {
        "colab": {
          "base_uri": "https://localhost:8080/"
        },
        "id": "mn0kiTL9gUAC",
        "outputId": "c1ec6a51-512e-45cd-a245-24f4905c69e5"
      },
      "execution_count": null,
      "outputs": [
        {
          "output_type": "stream",
          "name": "stdout",
          "text": [
            "                                     cleaned_comment  compound sentiment_class\n",
            "0  just saw it that movie fucking rips \\n\\nmovies...    0.6590        Positive\n",
            "1  disneys star wars was a false prophet dune is ...   -0.2023        Negative\n",
            "2  coliseum scene was like one big scifi wet drea...    0.8020        Positive\n",
            "3  just got home from my viewing in imax and this...    0.8166        Positive\n",
            "4  fan screen goerthis is thumbs down the best sc...    0.7579        Positive\n"
          ]
        }
      ]
    },
    {
      "cell_type": "code",
      "source": [
        "import matplotlib.pyplot as plt\n",
        "import seaborn as sns\n",
        "\n",
        "sentiment_counts = df['sentiment_class'].value_counts()\n",
        "\n",
        "\n",
        "plt.figure(figsize=(8,6))\n",
        "sns.countplot(x='sentiment_class', data=df, palette='coolwarm')\n",
        "plt.title('Sentiment Analysis of Reddit Comments')\n",
        "plt.xlabel('Sentiment Class')\n",
        "plt.ylabel('Number of Comments')\n",
        "plt.show()\n"
      ],
      "metadata": {
        "colab": {
          "base_uri": "https://localhost:8080/",
          "height": 651
        },
        "id": "3DziE--ZgUCh",
        "outputId": "6ad8f010-4f19-496a-80c5-c0e24cb0a11e"
      },
      "execution_count": null,
      "outputs": [
        {
          "output_type": "stream",
          "name": "stderr",
          "text": [
            "<ipython-input-5-32c7d2466f88>:8: FutureWarning: \n",
            "\n",
            "Passing `palette` without assigning `hue` is deprecated and will be removed in v0.14.0. Assign the `x` variable to `hue` and set `legend=False` for the same effect.\n",
            "\n",
            "  sns.countplot(x='sentiment_class', data=df, palette='coolwarm')\n"
          ]
        },
        {
          "output_type": "display_data",
          "data": {
            "text/plain": [
              "<Figure size 800x600 with 1 Axes>"
            ],
            "image/png": "[encoded data removed]"
          },
          "metadata": {}
        }
      ]
    }
  ]
}